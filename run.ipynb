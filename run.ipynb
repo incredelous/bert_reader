{
 "cells": [
  {
   "cell_type": "code",
   "execution_count": null,
   "metadata": {},
   "outputs": [],
   "source": [
    "%run run_forum_data.py \\\n",
    "  --vocab_file=./pretrain/chinese_L-12_H-768_A-12/vocab.txt \\\n",
    "  --bert_config_file=./pretrain/chinese_L-12_H-768_A-12/bert_config.json \\\n",
    "  --init_checkpoint=./pretrain/chinese_L-12_H-768_A-12/bert_model.ckpt \\\n",
    "  --do_train=True \\\n",
    "  --train_file=./data/jiankangyun/forum_training.json \\\n",
    "  --do_predict=True \\\n",
    "  --predict_file=./data/DRCD/simple_DRCD_dev.json \\\n",
    "  --train_batch_size=4 \\\n",
    "  --learning_rate=3e-5 \\\n",
    "  --num_train_epochs=2.0 \\\n",
    "  --max_seq_length=512 \\\n",
    "  --doc_stride=400 \\\n",
    "  --output_dir=./checkpoints/jiankangyun "
   ]
  },
  {
   "cell_type": "code",
   "execution_count": null,
   "metadata": {},
   "outputs": [],
   "source": []
  }
 ],
 "metadata": {
  "kernelspec": {
   "display_name": "Python 3",
   "language": "python",
   "name": "python3"
  },
  "language_info": {
   "codemirror_mode": {
    "name": "ipython",
    "version": 3
   },
   "file_extension": ".py",
   "mimetype": "text/x-python",
   "name": "python",
   "nbconvert_exporter": "python",
   "pygments_lexer": "ipython3",
   "version": "3.5.2"
  }
 },
 "nbformat": 4,
 "nbformat_minor": 2
}
