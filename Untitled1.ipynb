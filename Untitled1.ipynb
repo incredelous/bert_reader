{
 "cells": [
  {
   "cell_type": "code",
   "execution_count": 3,
   "metadata": {},
   "outputs": [
    {
     "name": "stderr",
     "output_type": "stream",
     "text": [
      "100%|██████████| 5000/5000 [00:01<00:00, 3046.92it/s]\n"
     ]
    }
   ],
   "source": [
    "#coding: utf-8\n",
    "import json\n",
    "from tqdm import tqdm \n",
    "\n",
    "with open('./checkpoints/CIPS/nbest_predictions.json', 'r', encoding=\"utf-8\") as reader:\n",
    "    nbest_predictions = json.load(reader)\n",
    "with open('./data/CIPS-sogou/nbest_predictions_cn.txt', 'w', encoding=\"utf-8\") as writer:    \n",
    "    nbest_predictions = sorted(nbest_predictions.items(), key=lambda x: x[0])\n",
    "    for number, nbest_json_results in tqdm(nbest_predictions):\n",
    "        writer.write(number)\n",
    "        for nbest_json in nbest_json_results:\n",
    "            for key, result in nbest_json.items():\n",
    "                if key == 'text':\n",
    "                    writer.write('{}: {}'.format(key, result))\n",
    "                else:\n",
    "                    writer.write(key + ':' + str(result))"
   ]
  }
 ],
 "metadata": {
  "kernelspec": {
   "display_name": "Python 3",
   "language": "python",
   "name": "python3"
  },
  "language_info": {
   "codemirror_mode": {
    "name": "ipython",
    "version": 3
   },
   "file_extension": ".py",
   "mimetype": "text/x-python",
   "name": "python",
   "nbconvert_exporter": "python",
   "pygments_lexer": "ipython3",
   "version": "3.5.2"
  }
 },
 "nbformat": 4,
 "nbformat_minor": 2
}
