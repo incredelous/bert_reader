{
 "cells": [
  {
   "cell_type": "code",
   "execution_count": 2,
   "metadata": {},
   "outputs": [
    {
     "name": "stderr",
     "output_type": "stream",
     "text": [
      "100%|██████████| 400453/400453 [00:01<00:00, 277992.75it/s]\n"
     ]
    }
   ],
   "source": [
    "# data processing\n",
    "import json\n",
    "from tqdm import tqdm\n",
    "data_dir = './data/jiankangyun/forum.json'\n",
    "with open(data_dir, 'r', encoding='utf-8') as f:\n",
    "    data = json.loads(f.read())\n",
    "train_set = dict()\n",
    "valid_set = dict()\n",
    "for idx, forum_id in enumerate(tqdm(data.keys())):\n",
    "    correct_id = data[forum_id]['Correct_ID']\n",
    "    answer = data[forum_id]['Ans'][correct_id]\n",
    "    context = \"\".join(data[forum_id]['Ans'])\n",
    "    question = data[forum_id]['title']\n",
    "    if len(answer) > 400 or len(context) > 800 or len(question) > 100:\n",
    "        continue\n",
    "    if idx < 10000:\n",
    "        valid_set[forum_id] = data[forum_id]\n",
    "    else:\n",
    "        train_set[forum_id] = data[forum_id]\n",
    "with open('./data/jiankangyun/forum_training.json', 'w', encoding='utf-8') as f:\n",
    "    json.dump(train_set, f)\n",
    "with open('./data/jiankangyun/forum_dev.json', 'w', encoding='utf-8') as f:\n",
    "    json.dump(valid_set, f)"
   ]
  }
 ],
 "metadata": {
  "kernelspec": {
   "display_name": "Python 3",
   "language": "python",
   "name": "python3"
  },
  "language_info": {
   "codemirror_mode": {
    "name": "ipython",
    "version": 3
   },
   "file_extension": ".py",
   "mimetype": "text/x-python",
   "name": "python",
   "nbconvert_exporter": "python",
   "pygments_lexer": "ipython3",
   "version": "3.5.2"
  }
 },
 "nbformat": 4,
 "nbformat_minor": 2
}
