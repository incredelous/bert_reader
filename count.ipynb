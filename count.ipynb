{
 "cells": [
  {
   "cell_type": "code",
   "execution_count": 9,
   "metadata": {},
   "outputs": [],
   "source": [
    "# data processing\n",
    "import json\n",
    "data_dir = './data/jiankangyun/forum.json'\n",
    "with open(data_dir, 'r', encoding='utf-8') as f:\n",
    "    data = json.loads(f.read())\n"
   ]
  },
  {
   "cell_type": "code",
   "execution_count": 10,
   "metadata": {},
   "outputs": [],
   "source": [
    "counter = 0\n",
    "new_data = dict()\n",
    "for qas_id in data.keys():\n",
    "    counter += 1\n",
    "    new_data[qas_id] = data[qas_id]\n",
    "    if counter >= 10000:\n",
    "        break\n",
    "json.dump(new_data, open('./data/jiankangyun/mini_forum.json', 'w'))"
   ]
  },
  {
   "cell_type": "code",
   "execution_count": 17,
   "metadata": {},
   "outputs": [],
   "source": [
    "with open('./checkpoints/jiankangyun/predictions.json', 'r') as f:\n",
    "    js = json.loads(f.read())\n",
    "count1 = [0] * 5\n",
    "for _, answer in js.items():\n",
    "    length = len(\"\".join(answer.strip().split()))\n",
    "    if length <= 10:\n",
    "        count1[0] += 1\n",
    "    elif length <= 50:\n",
    "        count1[1] += 1\n",
    "    elif length <= 100:\n",
    "        count1[2] += 1\n",
    "    elif length <= 200:\n",
    "        count1[3] += 1\n",
    "    else:\n",
    "        count1[4] += 1"
   ]
  },
  {
   "cell_type": "code",
   "execution_count": 21,
   "metadata": {},
   "outputs": [],
   "source": [
    "with open('./data/jiankangyun/mini_forum.json', 'r') as f:\n",
    "    js = json.loads(f.read())\n",
    "count2 = [0] * 5\n",
    "for key in js.keys():\n",
    "    ans_id = js[key]['Correct_ID']\n",
    "    length = len(js[key]['Ans'][ans_id])\n",
    "    if length <= 10:\n",
    "        count2[0] += 1\n",
    "    elif length <= 50:\n",
    "        count2[1] += 1\n",
    "    elif length <= 100:\n",
    "        count2[2] += 1\n",
    "    elif length <= 200:\n",
    "        count2[3] += 1\n",
    "    else:\n",
    "        count2[4] += 1"
   ]
  },
  {
   "cell_type": "code",
   "execution_count": 28,
   "metadata": {},
   "outputs": [
    {
     "data": {
      "text/plain": [
       "[5332, 4668, 0, 0, 0]"
      ]
     },
     "execution_count": 28,
     "metadata": {},
     "output_type": "execute_result"
    }
   ],
   "source": [
    "count1"
   ]
  },
  {
   "cell_type": "code",
   "execution_count": 38,
   "metadata": {},
   "outputs": [
    {
     "data": {
      "image/png": "[encoded data removed]",
      "text/plain": [
       "<Figure size 648x432 with 1 Axes>"
      ]
     },
     "metadata": {
      "needs_background": "light"
     },
     "output_type": "display_data"
    }
   ],
   "source": [
    "import numpy as np\n",
    "import matplotlib as mpl\n",
    "import matplotlib.pyplot as plt\n",
    "\n",
    "plt.figure(figsize=(9,6)) \n",
    "n = 5 \n",
    "X = np.arange(n)+1 #X是1,2,3,4,5,6,7,8,柱的个数 #uniform均匀分布的随机数，normal是正态分布的随机数，0.5-1均匀分布的数，一共有n个 \n",
    "Y1 = np.asarray(count1, dtype=np.int32) \n",
    "Y2 =  np.asarray(count2, dtype=np.int32) \n",
    "plt.bar(X, Y1, alpha=0.9, width = 0.35, facecolor = 'lightskyblue', edgecolor = 'white', label='predict', lw=1) \n",
    "plt.bar(X+0.35, Y2, alpha=0.9, width = 0.35, facecolor = 'yellowgreen', edgecolor = 'white', label='label', lw=1) \n",
    "plt.legend(loc=\"upper right\")\n",
    "plt.xlabel('sentence length range')\n",
    "plt.ylabel('sentence numbers')\n",
    "plt.xticks(range(1, n+1), ['<=10', '<=50', '<=100', '<=200', '>200'])\n",
    "plt.show()"
   ]
  },
  {
   "cell_type": "code",
   "execution_count": null,
   "metadata": {},
   "outputs": [],
   "source": [
    "import re\n",
    "re.search(re.escape(data['731453']['Ans'][data['731453']['Correct_ID']]), \"\".join(data['731453']['Ans']))\n"
   ]
  },
  {
   "cell_type": "code",
   "execution_count": null,
   "metadata": {},
   "outputs": [],
   "source": [
    "from tqdm import tqdm\n",
    "pbar = tqdm(data.keys())\n",
    "for _, qas_id in enumerate(pbar):\n",
    "    pbar.set_description(qas_id)"
   ]
  }
 ],
 "metadata": {
  "kernelspec": {
   "display_name": "Python 3",
   "language": "python",
   "name": "python3"
  },
  "language_info": {
   "codemirror_mode": {
    "name": "ipython",
    "version": 3
   },
   "file_extension": ".py",
   "mimetype": "text/x-python",
   "name": "python",
   "nbconvert_exporter": "python",
   "pygments_lexer": "ipython3",
   "version": "3.5.2"
  }
 },
 "nbformat": 4,
 "nbformat_minor": 2
}
