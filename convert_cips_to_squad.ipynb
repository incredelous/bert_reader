{
 "cells": [
  {
   "cell_type": "code",
   "execution_count": 1,
   "metadata": {},
   "outputs": [],
   "source": [
    "import json\n",
    "import re\n",
    "import random\n",
    "import datetime, hashlib\n",
    "import utils"
   ]
  },
  {
   "cell_type": "code",
   "execution_count": 2,
   "metadata": {},
   "outputs": [],
   "source": [
    "def whitespace_tokenize(text):\n",
    "    text = text.strip()\n",
    "    if not text:\n",
    "        return []\n",
    "    tokens = text.split()\n",
    "    return tokens\n"
   ]
  },
  {
   "cell_type": "code",
   "execution_count": 3,
   "metadata": {},
   "outputs": [],
   "source": [
    "def prepro(*argvs):\n",
    "    processed_texts = []\n",
    "    for argv in argvs:\n",
    "        utext = utils.strQ2B(argv)\n",
    "        utext = \" \".join(whitespace_tokenize(utext))\n",
    "        processed_texts.append(utext)\n",
    "    return processed_texts"
   ]
  },
  {
   "cell_type": "code",
   "execution_count": 4,
   "metadata": {},
   "outputs": [
    {
     "name": "stderr",
     "output_type": "stream",
     "text": [
      "100%|██████████| 30000/30000 [00:51<00:00, 579.33it/s]\n"
     ]
    },
    {
     "name": "stdout",
     "output_type": "stream",
     "text": [
      "append 187080 records to file\n",
      "finished\n"
     ]
    }
   ],
   "source": [
    "# 非事实类数据转化为SQuAD\n",
    "# 目前无法处理answer为空的情况\n",
    "# coding:utf-8\n",
    "from tqdm import tqdm\n",
    "\n",
    "input_data = []\n",
    "with open('./data/CIPS-sogou/train.v1.json', \"r\") as reader:\n",
    "    for line in reader:\n",
    "        result = json.loads(line.strip())\n",
    "        input_data.append(result)\n",
    "output_data = {}\n",
    "output_data[\"version\"] = \"v1.3\"\n",
    "output_data[\"data\"] = []\n",
    "md5_f = hashlib.md5\n",
    "max_seq_length = 300\n",
    "counter_freq = {}\n",
    "for entry in tqdm(input_data):\n",
    "#     pbar.set_description(\"has finished {} records\".format(len(output_data[\"data\"])))\n",
    "    qas_id = entry[\"query_id\"]\n",
    "    question_text = entry[\"query\"]\n",
    "    for paragraph in entry[\"passages\"]:\n",
    "        title = \"\"\n",
    "        record_id = qas_id # 同样得问题对应于同一个id\n",
    "        squad_dict = {\"title\": title, \"id\": record_id, \"paragraphs\": []}\n",
    "        \n",
    "        find_no_answer_from_passage = False\n",
    "        beyond_max_text_length = False\n",
    "        passage_text = paragraph[\"passage_text\"]\n",
    "        passage_id = paragraph[\"passage_id\"]\n",
    "        for answer in entry[\"answer\"]:\n",
    "            answer_id = answer[\"answer_id\"]\n",
    "            from_passage = answer[\"from_passage\"]\n",
    "            if from_passage == passage_id:\n",
    "                answer_text, paragraph_text = prepro(answer[\"answer_text\"], paragraph[\"passage_text\"])\n",
    "                if len(paragraph_text) > max_seq_length:\n",
    "                    beyond_max_text_length = True\n",
    "                    break\n",
    "                if not re.search(re.escape(answer_text), paragraph_text):\n",
    "                    find_no_answer_from_passage = True\n",
    "                    break\n",
    "                answer_start = re.search(re.escape(answer_text), paragraph_text).span()[0]\n",
    "                paragraphs_id = \"{}-{}\".format(record_id, passage_id)\n",
    "                context = paragraph_text\n",
    "                qas_list = []\n",
    "                qas_list.append({\"id\": \"{}-{}-{}\".format(record_id, from_passage, answer_id), \"question\": question_text, \n",
    "                                 \"answers\":[{\"id\":1, \"text\": answer_text, \"answer_start\": answer_start}]})\n",
    "                squad_dict[\"paragraphs\"].append({\"id\": paragraphs_id, \"context\": context, \"qas\": qas_list})\n",
    "                break\n",
    "        \n",
    "        if find_no_answer_from_passage or beyond_max_text_length:\n",
    "            continue\n",
    "        output_data[\"data\"].append(squad_dict)\n",
    "print(\"append %d records to file\" % len(output_data[\"data\"]))\n",
    "with open(\"./data/CIPS-sogou/train.v1.squad.json\", \"w\") as writer:\n",
    "    writer.write(json.dumps(output_data))\n",
    "print(\"finished\")"
   ]
  },
  {
   "cell_type": "code",
   "execution_count": 5,
   "metadata": {},
   "outputs": [
    {
     "name": "stdout",
     "output_type": "stream",
     "text": [
      "> <ipython-input-5-b57e2a2a7e7c>(5)<module>()\n",
      "-> print(result)\n",
      "(Pdb) q\n"
     ]
    },
    {
     "ename": "BdbQuit",
     "evalue": "",
     "output_type": "error",
     "traceback": [
      "\u001b[0;31m\u001b[0m",
      "\u001b[0;31mBdbQuit\u001b[0mTraceback (most recent call last)",
      "\u001b[0;32m<ipython-input-5-b57e2a2a7e7c>\u001b[0m in \u001b[0;36m<module>\u001b[0;34m()\u001b[0m\n\u001b[1;32m      3\u001b[0m \u001b[0;32mfor\u001b[0m \u001b[0mresult\u001b[0m \u001b[0;32min\u001b[0m \u001b[0mresults\u001b[0m\u001b[0;34m:\u001b[0m\u001b[0;34m\u001b[0m\u001b[0m\n\u001b[1;32m      4\u001b[0m     \u001b[0;32mimport\u001b[0m \u001b[0mpdb\u001b[0m\u001b[0;34m;\u001b[0m\u001b[0mpdb\u001b[0m\u001b[0;34m.\u001b[0m\u001b[0mset_trace\u001b[0m\u001b[0;34m(\u001b[0m\u001b[0;34m)\u001b[0m\u001b[0;34m\u001b[0m\u001b[0m\n\u001b[0;32m----> 5\u001b[0;31m     \u001b[0;32mprint\u001b[0m\u001b[0;34m(\u001b[0m\u001b[0mresult\u001b[0m\u001b[0;34m)\u001b[0m\u001b[0;34m\u001b[0m\u001b[0m\n\u001b[0m",
      "\u001b[0;32m<ipython-input-5-b57e2a2a7e7c>\u001b[0m in \u001b[0;36m<module>\u001b[0;34m()\u001b[0m\n\u001b[1;32m      3\u001b[0m \u001b[0;32mfor\u001b[0m \u001b[0mresult\u001b[0m \u001b[0;32min\u001b[0m \u001b[0mresults\u001b[0m\u001b[0;34m:\u001b[0m\u001b[0;34m\u001b[0m\u001b[0m\n\u001b[1;32m      4\u001b[0m     \u001b[0;32mimport\u001b[0m \u001b[0mpdb\u001b[0m\u001b[0;34m;\u001b[0m\u001b[0mpdb\u001b[0m\u001b[0;34m.\u001b[0m\u001b[0mset_trace\u001b[0m\u001b[0;34m(\u001b[0m\u001b[0;34m)\u001b[0m\u001b[0;34m\u001b[0m\u001b[0m\n\u001b[0;32m----> 5\u001b[0;31m     \u001b[0;32mprint\u001b[0m\u001b[0;34m(\u001b[0m\u001b[0mresult\u001b[0m\u001b[0;34m)\u001b[0m\u001b[0;34m\u001b[0m\u001b[0m\n\u001b[0m",
      "\u001b[0;32m/usr/lib/python2.7/bdb.pyc\u001b[0m in \u001b[0;36mtrace_dispatch\u001b[0;34m(self, frame, event, arg)\u001b[0m\n\u001b[1;32m     47\u001b[0m             \u001b[0;32mreturn\u001b[0m \u001b[0;31m# None\u001b[0m\u001b[0;34m\u001b[0m\u001b[0m\n\u001b[1;32m     48\u001b[0m         \u001b[0;32mif\u001b[0m \u001b[0mevent\u001b[0m \u001b[0;34m==\u001b[0m \u001b[0;34m'line'\u001b[0m\u001b[0;34m:\u001b[0m\u001b[0;34m\u001b[0m\u001b[0m\n\u001b[0;32m---> 49\u001b[0;31m             \u001b[0;32mreturn\u001b[0m \u001b[0mself\u001b[0m\u001b[0;34m.\u001b[0m\u001b[0mdispatch_line\u001b[0m\u001b[0;34m(\u001b[0m\u001b[0mframe\u001b[0m\u001b[0;34m)\u001b[0m\u001b[0;34m\u001b[0m\u001b[0m\n\u001b[0m\u001b[1;32m     50\u001b[0m         \u001b[0;32mif\u001b[0m \u001b[0mevent\u001b[0m \u001b[0;34m==\u001b[0m \u001b[0;34m'call'\u001b[0m\u001b[0;34m:\u001b[0m\u001b[0;34m\u001b[0m\u001b[0m\n\u001b[1;32m     51\u001b[0m             \u001b[0;32mreturn\u001b[0m \u001b[0mself\u001b[0m\u001b[0;34m.\u001b[0m\u001b[0mdispatch_call\u001b[0m\u001b[0;34m(\u001b[0m\u001b[0mframe\u001b[0m\u001b[0;34m,\u001b[0m \u001b[0marg\u001b[0m\u001b[0;34m)\u001b[0m\u001b[0;34m\u001b[0m\u001b[0m\n",
      "\u001b[0;32m/usr/lib/python2.7/bdb.pyc\u001b[0m in \u001b[0;36mdispatch_line\u001b[0;34m(self, frame)\u001b[0m\n\u001b[1;32m     66\u001b[0m         \u001b[0;32mif\u001b[0m \u001b[0mself\u001b[0m\u001b[0;34m.\u001b[0m\u001b[0mstop_here\u001b[0m\u001b[0;34m(\u001b[0m\u001b[0mframe\u001b[0m\u001b[0;34m)\u001b[0m \u001b[0;32mor\u001b[0m \u001b[0mself\u001b[0m\u001b[0;34m.\u001b[0m\u001b[0mbreak_here\u001b[0m\u001b[0;34m(\u001b[0m\u001b[0mframe\u001b[0m\u001b[0;34m)\u001b[0m\u001b[0;34m:\u001b[0m\u001b[0;34m\u001b[0m\u001b[0m\n\u001b[1;32m     67\u001b[0m             \u001b[0mself\u001b[0m\u001b[0;34m.\u001b[0m\u001b[0muser_line\u001b[0m\u001b[0;34m(\u001b[0m\u001b[0mframe\u001b[0m\u001b[0;34m)\u001b[0m\u001b[0;34m\u001b[0m\u001b[0m\n\u001b[0;32m---> 68\u001b[0;31m             \u001b[0;32mif\u001b[0m \u001b[0mself\u001b[0m\u001b[0;34m.\u001b[0m\u001b[0mquitting\u001b[0m\u001b[0;34m:\u001b[0m \u001b[0;32mraise\u001b[0m \u001b[0mBdbQuit\u001b[0m\u001b[0;34m\u001b[0m\u001b[0m\n\u001b[0m\u001b[1;32m     69\u001b[0m         \u001b[0;32mreturn\u001b[0m \u001b[0mself\u001b[0m\u001b[0;34m.\u001b[0m\u001b[0mtrace_dispatch\u001b[0m\u001b[0;34m\u001b[0m\u001b[0m\n\u001b[1;32m     70\u001b[0m \u001b[0;34m\u001b[0m\u001b[0m\n",
      "\u001b[0;31mBdbQuit\u001b[0m: "
     ]
    }
   ],
   "source": [
    "with open(\"./data/CIPS-sogou/train.v1.squad.json\", \"r\") as reader:\n",
    "    results = json.load(reader)[\"data\"]\n",
    "for result in results:\n",
    "    import pdb;pdb.set_trace()\n",
    "    print(result)"
   ]
  },
  {
   "cell_type": "code",
   "execution_count": null,
   "metadata": {},
   "outputs": [],
   "source": [
    "with open(\"./data/DRCD/DRCD_dev.json\", \"r\", encoding=\"utf-8\") as reader:\n",
    "    input_data = json.load(reader)[\"data\"]\n",
    "for entry in input_data:\n",
    "    print(entry)\n",
    "    import pdb; pdb.set_trace()"
   ]
  },
  {
   "cell_type": "code",
   "execution_count": null,
   "metadata": {},
   "outputs": [],
   "source": [
    "with open(\"./data/CIPS-sogou/valid.squad.json\", \"r\", encoding=\"utf-8\") as reader:\n",
    "    results = json.load(reader, encoding=\"utf-8\")\n",
    "print(json.dumps(results, indent=4))"
   ]
  },
  {
   "cell_type": "code",
   "execution_count": null,
   "metadata": {},
   "outputs": [],
   "source": [
    "results_list = sorted(results.items(), key=lambda x: x[0])\n",
    "for key, value in results_list:\n",
    "    print(key + '' + value)"
   ]
  },
  {
   "cell_type": "code",
   "execution_count": null,
   "metadata": {},
   "outputs": [],
   "source": [
    "%run ./data/SQuAD1.1/evaluate-v1.1.py ./data/CIPS-sogou/valid.squad.json ./checkpoints/CIPS-sogou-unfactoid/predictions.json"
   ]
  }
 ],
 "metadata": {
  "kernelspec": {
   "display_name": "Python 2",
   "language": "python",
   "name": "python2"
  },
  "language_info": {
   "codemirror_mode": {
    "name": "ipython",
    "version": 2
   },
   "file_extension": ".py",
   "mimetype": "text/x-python",
   "name": "python",
   "nbconvert_exporter": "python",
   "pygments_lexer": "ipython2",
   "version": "2.7.12"
  }
 },
 "nbformat": 4,
 "nbformat_minor": 2
}
