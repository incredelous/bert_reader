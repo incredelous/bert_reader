{
 "cells": [
  {
   "cell_type": "code",
   "execution_count": null,
   "metadata": {},
   "outputs": [],
   "source": [
    "%run run_squad.py \\\n",
    "  --vocab_file=./checkpoints/chinese_L-12_H-768_A-12/vocab.txt \\\n",
    "  --bert_config_file=./checkpoints/chinese_L-12_H-768_A-12/bert_config.json \\\n",
    "  --init_checkpoint=./checkpoints/chinese_L-12_H-768_A-12/bert_model.ckpt \\\n",
    "  --do_train=True \\\n",
    "  --train_file=./data/DRCD/simple_DRCD_training.json \\\n",
    "  --do_predict=True \\\n",
    "  --predict_file=./data/DRCD/simple_DRCD_dev.json \\\n",
    "  --train_batch_size=4 \\\n",
    "  --learning_rate=3e-5 \\\n",
    "  --num_train_epochs=2.0 \\\n",
    "  --max_seq_length=384 \\\n",
    "  --doc_stride=128 \\\n",
    "  --output_dir=./checkpoints/DRCD "
   ]
  },
  {
   "cell_type": "code",
   "execution_count": null,
   "metadata": {},
   "outputs": [],
   "source": [
    "%run run_squad.py \\\n",
    "  --vocab_file=./checkpoints/uncased_L-12_H-768_A-12/vocab.txt \\\n",
    "  --bert_config_file=./checkpoints/uncased_L-12_H-768_A-12/bert_config.json \\\n",
    "  --init_checkpoint=./checkpoints/uncased_L-12_H-768_A-12/bert_model.ckpt \\\n",
    "  --do_train=True \\\n",
    "  --train_file=./data/SQuAD1.1/train-v1.1.json \\\n",
    "  --do_predict=True \\\n",
    "  --predict_file=./data/SQuAD1.1/dev-v1.1.json \\\n",
    "  --train_batch_size=4 \\\n",
    "  --learning_rate=3e-5 \\\n",
    "  --num_train_epochs=2.0 \\\n",
    "  --max_seq_length=384 \\\n",
    "  --doc_stride=128 \\\n",
    "  --output_dir=./checkpoints/squad_1.1_base\n",
    "  "
   ]
  },
  {
   "cell_type": "code",
   "execution_count": null,
   "metadata": {},
   "outputs": [],
   "source": [
    "%run run_squad.py \\\n",
    "  --vocab_file=./checkpoints/chinese_L-12_H-768_A-12/vocab.txt \\\n",
    "  --bert_config_file=./checkpoints/chinese_L-12_H-768_A-12/bert_config.json \\\n",
    "  --init_checkpoint=./checkpoints/chinese_L-12_H-768_A-12/bert_model.ckpt \\\n",
    "  --do_train=True \\\n",
    "  --train_file=./data/CIPS-sogou/train.v1.squad.json \\\n",
    "  --do_predict=True \\\n",
    "  --predict_file=./data/CIPS-sogou/valid.squad.json \\\n",
    "  --train_batch_size=4 \\\n",
    "  --learning_rate=3e-5 \\\n",
    "  --num_train_epochs=2.0 \\\n",
    "  --max_seq_length=512 \\\n",
    "  --doc_stride=128 \\\n",
    "  --output_dir=./checkpoints/CIPS-sogou-unfactoid"
   ]
  }
 ],
 "metadata": {
  "kernelspec": {
   "display_name": "Python 2",
   "language": "python",
   "name": "python2"
  },
  "language_info": {
   "codemirror_mode": {
    "name": "ipython",
    "version": 2
   },
   "file_extension": ".py",
   "mimetype": "text/x-python",
   "name": "python",
   "nbconvert_exporter": "python",
   "pygments_lexer": "ipython2",
   "version": "2.7.12"
  }
 },
 "nbformat": 4,
 "nbformat_minor": 2
}
